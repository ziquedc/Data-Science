{
 "cells": [
  {
   "cell_type": "code",
   "execution_count": 63,
   "metadata": {},
   "outputs": [],
   "source": [
    "import pandas as pd\n",
    "import numpy as np\n",
    "import plotly.express as px\n",
    "import seaborn as sns\n",
    "import matplotlib.pyplot as plt\n",
    "import plotly.graph_objects as go\n",
    "\n",
    "from sklearn.model_selection import train_test_split\n",
    "from sklearn.metrics import mean_absolute_error, mean_squared_error # metricas\n",
    "from sklearn.model_selection import GridSearchCV #cross validation\n",
    "from sklearn.preprocessing import StandardScaler\n",
    "from sklearn.model_selection import cross_val_score, KFold\n",
    "\n",
    "# ALGORITMOS\n",
    "from sklearn.neural_network import MLPRegressor\n",
    "from sklearn.svm import SVR\n",
    "from sklearn.ensemble import RandomForestRegressor\n"
   ]
  },
  {
   "cell_type": "code",
   "execution_count": 4,
   "metadata": {},
   "outputs": [],
   "source": [
    "dados = pd.read_csv('insurance.csv')"
   ]
  },
  {
   "cell_type": "markdown",
   "metadata": {},
   "source": [
    "dados obtidos no Keggle: https://www.kaggle.com/mirichoi0218/insurance?select=insurance.csv\n",
    "\n",
    "COLUNAS\n",
    "- age: idade do beneficiário principal\n",
    "\n",
    "- sex: sexo do contratante do seguro, feminino, masculino\n",
    "\n",
    "- bmi: índice de massa corporal, fornecendo uma compreensão do corpo, pesos relativamente altos ou baixos em relação à altura,\n",
    "índice objetivo de peso corporal (kg / m ^ 2) usando a relação entre altura e peso, idealmente 18,5 a 24,9\n",
    "\n",
    "- children: Número de filhos cobertos pelo seguro saúde / Número de dependentes\n",
    "\n",
    "- smoker: fumante\n",
    "\n",
    "- region: a área residencial do beneficiário nos EUA, nordeste, sudeste, sudoeste, noroeste.\n",
    "\n",
    "- charges: custos médicos individuais faturados pelo seguro de saúde"
   ]
  },
  {
   "cell_type": "code",
   "execution_count": 13,
   "metadata": {},
   "outputs": [
    {
     "data": {
      "text/html": [
       "<div>\n",
       "<style scoped>\n",
       "    .dataframe tbody tr th:only-of-type {\n",
       "        vertical-align: middle;\n",
       "    }\n",
       "\n",
       "    .dataframe tbody tr th {\n",
       "        vertical-align: top;\n",
       "    }\n",
       "\n",
       "    .dataframe thead th {\n",
       "        text-align: right;\n",
       "    }\n",
       "</style>\n",
       "<table border=\"1\" class=\"dataframe\">\n",
       "  <thead>\n",
       "    <tr style=\"text-align: right;\">\n",
       "      <th></th>\n",
       "      <th>age</th>\n",
       "      <th>sex</th>\n",
       "      <th>bmi</th>\n",
       "      <th>children</th>\n",
       "      <th>smoker</th>\n",
       "      <th>region</th>\n",
       "      <th>charges</th>\n",
       "    </tr>\n",
       "  </thead>\n",
       "  <tbody>\n",
       "    <tr>\n",
       "      <th>0</th>\n",
       "      <td>19</td>\n",
       "      <td>female</td>\n",
       "      <td>27.900</td>\n",
       "      <td>0</td>\n",
       "      <td>yes</td>\n",
       "      <td>southwest</td>\n",
       "      <td>16884.92400</td>\n",
       "    </tr>\n",
       "    <tr>\n",
       "      <th>1</th>\n",
       "      <td>18</td>\n",
       "      <td>male</td>\n",
       "      <td>33.770</td>\n",
       "      <td>1</td>\n",
       "      <td>no</td>\n",
       "      <td>southeast</td>\n",
       "      <td>1725.55230</td>\n",
       "    </tr>\n",
       "    <tr>\n",
       "      <th>2</th>\n",
       "      <td>28</td>\n",
       "      <td>male</td>\n",
       "      <td>33.000</td>\n",
       "      <td>3</td>\n",
       "      <td>no</td>\n",
       "      <td>southeast</td>\n",
       "      <td>4449.46200</td>\n",
       "    </tr>\n",
       "    <tr>\n",
       "      <th>3</th>\n",
       "      <td>33</td>\n",
       "      <td>male</td>\n",
       "      <td>22.705</td>\n",
       "      <td>0</td>\n",
       "      <td>no</td>\n",
       "      <td>northwest</td>\n",
       "      <td>21984.47061</td>\n",
       "    </tr>\n",
       "    <tr>\n",
       "      <th>4</th>\n",
       "      <td>32</td>\n",
       "      <td>male</td>\n",
       "      <td>28.880</td>\n",
       "      <td>0</td>\n",
       "      <td>no</td>\n",
       "      <td>northwest</td>\n",
       "      <td>3866.85520</td>\n",
       "    </tr>\n",
       "    <tr>\n",
       "      <th>...</th>\n",
       "      <td>...</td>\n",
       "      <td>...</td>\n",
       "      <td>...</td>\n",
       "      <td>...</td>\n",
       "      <td>...</td>\n",
       "      <td>...</td>\n",
       "      <td>...</td>\n",
       "    </tr>\n",
       "    <tr>\n",
       "      <th>1333</th>\n",
       "      <td>50</td>\n",
       "      <td>male</td>\n",
       "      <td>30.970</td>\n",
       "      <td>3</td>\n",
       "      <td>no</td>\n",
       "      <td>northwest</td>\n",
       "      <td>10600.54830</td>\n",
       "    </tr>\n",
       "    <tr>\n",
       "      <th>1334</th>\n",
       "      <td>18</td>\n",
       "      <td>female</td>\n",
       "      <td>31.920</td>\n",
       "      <td>0</td>\n",
       "      <td>no</td>\n",
       "      <td>northeast</td>\n",
       "      <td>2205.98080</td>\n",
       "    </tr>\n",
       "    <tr>\n",
       "      <th>1335</th>\n",
       "      <td>18</td>\n",
       "      <td>female</td>\n",
       "      <td>36.850</td>\n",
       "      <td>0</td>\n",
       "      <td>no</td>\n",
       "      <td>southeast</td>\n",
       "      <td>1629.83350</td>\n",
       "    </tr>\n",
       "    <tr>\n",
       "      <th>1336</th>\n",
       "      <td>21</td>\n",
       "      <td>female</td>\n",
       "      <td>25.800</td>\n",
       "      <td>0</td>\n",
       "      <td>no</td>\n",
       "      <td>southwest</td>\n",
       "      <td>2007.94500</td>\n",
       "    </tr>\n",
       "    <tr>\n",
       "      <th>1337</th>\n",
       "      <td>61</td>\n",
       "      <td>female</td>\n",
       "      <td>29.070</td>\n",
       "      <td>0</td>\n",
       "      <td>yes</td>\n",
       "      <td>northwest</td>\n",
       "      <td>29141.36030</td>\n",
       "    </tr>\n",
       "  </tbody>\n",
       "</table>\n",
       "<p>1338 rows × 7 columns</p>\n",
       "</div>"
      ],
      "text/plain": [
       "      age     sex     bmi  children smoker     region      charges\n",
       "0      19  female  27.900         0    yes  southwest  16884.92400\n",
       "1      18    male  33.770         1     no  southeast   1725.55230\n",
       "2      28    male  33.000         3     no  southeast   4449.46200\n",
       "3      33    male  22.705         0     no  northwest  21984.47061\n",
       "4      32    male  28.880         0     no  northwest   3866.85520\n",
       "...   ...     ...     ...       ...    ...        ...          ...\n",
       "1333   50    male  30.970         3     no  northwest  10600.54830\n",
       "1334   18  female  31.920         0     no  northeast   2205.98080\n",
       "1335   18  female  36.850         0     no  southeast   1629.83350\n",
       "1336   21  female  25.800         0     no  southwest   2007.94500\n",
       "1337   61  female  29.070         0    yes  northwest  29141.36030\n",
       "\n",
       "[1338 rows x 7 columns]"
      ]
     },
     "execution_count": 13,
     "metadata": {},
     "output_type": "execute_result"
    }
   ],
   "source": [
    "dados"
   ]
  },
  {
   "cell_type": "markdown",
   "metadata": {},
   "source": [
    "# Análise exploratória dos dados"
   ]
  },
  {
   "cell_type": "code",
   "execution_count": 20,
   "metadata": {},
   "outputs": [
    {
     "data": {
      "text/html": [
       "<div>\n",
       "<style scoped>\n",
       "    .dataframe tbody tr th:only-of-type {\n",
       "        vertical-align: middle;\n",
       "    }\n",
       "\n",
       "    .dataframe tbody tr th {\n",
       "        vertical-align: top;\n",
       "    }\n",
       "\n",
       "    .dataframe thead th {\n",
       "        text-align: right;\n",
       "    }\n",
       "</style>\n",
       "<table border=\"1\" class=\"dataframe\">\n",
       "  <thead>\n",
       "    <tr style=\"text-align: right;\">\n",
       "      <th></th>\n",
       "      <th>age</th>\n",
       "      <th>sex</th>\n",
       "      <th>bmi</th>\n",
       "      <th>children</th>\n",
       "      <th>smoker</th>\n",
       "      <th>charges</th>\n",
       "    </tr>\n",
       "  </thead>\n",
       "  <tbody>\n",
       "    <tr>\n",
       "      <th>count</th>\n",
       "      <td>1338.000000</td>\n",
       "      <td>1338.000000</td>\n",
       "      <td>1338.000000</td>\n",
       "      <td>1338.000000</td>\n",
       "      <td>1338.000000</td>\n",
       "      <td>1338.000000</td>\n",
       "    </tr>\n",
       "    <tr>\n",
       "      <th>mean</th>\n",
       "      <td>39.207025</td>\n",
       "      <td>0.494768</td>\n",
       "      <td>30.663397</td>\n",
       "      <td>1.094918</td>\n",
       "      <td>0.204783</td>\n",
       "      <td>13270.422265</td>\n",
       "    </tr>\n",
       "    <tr>\n",
       "      <th>std</th>\n",
       "      <td>14.049960</td>\n",
       "      <td>0.500160</td>\n",
       "      <td>6.098187</td>\n",
       "      <td>1.205493</td>\n",
       "      <td>0.403694</td>\n",
       "      <td>12110.011237</td>\n",
       "    </tr>\n",
       "    <tr>\n",
       "      <th>min</th>\n",
       "      <td>18.000000</td>\n",
       "      <td>0.000000</td>\n",
       "      <td>15.960000</td>\n",
       "      <td>0.000000</td>\n",
       "      <td>0.000000</td>\n",
       "      <td>1121.873900</td>\n",
       "    </tr>\n",
       "    <tr>\n",
       "      <th>25%</th>\n",
       "      <td>27.000000</td>\n",
       "      <td>0.000000</td>\n",
       "      <td>26.296250</td>\n",
       "      <td>0.000000</td>\n",
       "      <td>0.000000</td>\n",
       "      <td>4740.287150</td>\n",
       "    </tr>\n",
       "    <tr>\n",
       "      <th>50%</th>\n",
       "      <td>39.000000</td>\n",
       "      <td>0.000000</td>\n",
       "      <td>30.400000</td>\n",
       "      <td>1.000000</td>\n",
       "      <td>0.000000</td>\n",
       "      <td>9382.033000</td>\n",
       "    </tr>\n",
       "    <tr>\n",
       "      <th>75%</th>\n",
       "      <td>51.000000</td>\n",
       "      <td>1.000000</td>\n",
       "      <td>34.693750</td>\n",
       "      <td>2.000000</td>\n",
       "      <td>0.000000</td>\n",
       "      <td>16639.912515</td>\n",
       "    </tr>\n",
       "    <tr>\n",
       "      <th>max</th>\n",
       "      <td>64.000000</td>\n",
       "      <td>1.000000</td>\n",
       "      <td>53.130000</td>\n",
       "      <td>5.000000</td>\n",
       "      <td>1.000000</td>\n",
       "      <td>63770.428010</td>\n",
       "    </tr>\n",
       "  </tbody>\n",
       "</table>\n",
       "</div>"
      ],
      "text/plain": [
       "               age          sex          bmi     children       smoker  \\\n",
       "count  1338.000000  1338.000000  1338.000000  1338.000000  1338.000000   \n",
       "mean     39.207025     0.494768    30.663397     1.094918     0.204783   \n",
       "std      14.049960     0.500160     6.098187     1.205493     0.403694   \n",
       "min      18.000000     0.000000    15.960000     0.000000     0.000000   \n",
       "25%      27.000000     0.000000    26.296250     0.000000     0.000000   \n",
       "50%      39.000000     0.000000    30.400000     1.000000     0.000000   \n",
       "75%      51.000000     1.000000    34.693750     2.000000     0.000000   \n",
       "max      64.000000     1.000000    53.130000     5.000000     1.000000   \n",
       "\n",
       "            charges  \n",
       "count   1338.000000  \n",
       "mean   13270.422265  \n",
       "std    12110.011237  \n",
       "min     1121.873900  \n",
       "25%     4740.287150  \n",
       "50%     9382.033000  \n",
       "75%    16639.912515  \n",
       "max    63770.428010  "
      ]
     },
     "execution_count": 20,
     "metadata": {},
     "output_type": "execute_result"
    }
   ],
   "source": [
    "dados.describe()"
   ]
  },
  {
   "cell_type": "code",
   "execution_count": 9,
   "metadata": {},
   "outputs": [
    {
     "data": {
      "text/plain": [
       "age         0\n",
       "sex         0\n",
       "bmi         0\n",
       "children    0\n",
       "smoker      0\n",
       "region      0\n",
       "charges     0\n",
       "dtype: int64"
      ]
     },
     "execution_count": 9,
     "metadata": {},
     "output_type": "execute_result"
    }
   ],
   "source": [
    "# verificar dados faltantes\n",
    "dados.isnull().sum()"
   ]
  },
  {
   "cell_type": "code",
   "execution_count": 19,
   "metadata": {},
   "outputs": [
    {
     "data": {
      "text/plain": [
       "age           int64\n",
       "sex           int64\n",
       "bmi         float64\n",
       "children      int64\n",
       "smoker        int64\n",
       "region       object\n",
       "charges     float64\n",
       "dtype: object"
      ]
     },
     "execution_count": 19,
     "metadata": {},
     "output_type": "execute_result"
    }
   ],
   "source": [
    "# tipos das variáveis\n",
    "dados.dtypes"
   ]
  },
  {
   "cell_type": "code",
   "execution_count": 17,
   "metadata": {},
   "outputs": [],
   "source": [
    "# Coluna Smoker\n",
    "# YES => 1\n",
    "# NO  => 0\n",
    "dados.smoker.replace(['yes', 'no'], [1, 0], inplace=True)\n",
    "\n",
    "# Coluna Sex\n",
    "# female => 1\n",
    "# male  => 0\n",
    "dados.sex.replace(['female', 'male'], [1, 0], inplace=True)"
   ]
  },
  {
   "cell_type": "code",
   "execution_count": 62,
   "metadata": {},
   "outputs": [
    {
     "data": {
      "image/png": "[encoded data removed]",
      "text/plain": [
       "<Figure size 720x576 with 9 Axes>"
      ]
     },
     "metadata": {
      "needs_background": "light"
     },
     "output_type": "display_data"
    }
   ],
   "source": [
    "# ver histograma das variáveis numéricas\n",
    "dados.hist(figsize=(10,8));"
   ]
  },
  {
   "cell_type": "code",
   "execution_count": 22,
   "metadata": {},
   "outputs": [
    {
     "data": {
      "image/png": "[encoded data removed]",
      "text/plain": [
       "<Figure size 864x288 with 3 Axes>"
      ]
     },
     "metadata": {
      "needs_background": "light"
     },
     "output_type": "display_data"
    }
   ],
   "source": [
    "# Plotar os gráficos para Charges vs. Sex, children e Smoker\n",
    "fig, (axis1, axis2, axis3) = plt.subplots(1,3, figsize=(12,4))\n",
    "\n",
    "sns.barplot(x='sex', y='charges', data=dados, ax=axis1)\n",
    "sns.barplot(x='children', y='charges', data=dados, ax=axis2)\n",
    "sns.barplot(x='smoker', y='charges', data=dados, ax=axis3);"
   ]
  },
  {
   "cell_type": "markdown",
   "metadata": {},
   "source": [
    " - nota-se que pessoas que fumam tendem a pagar mais caro no plano de saúde"
   ]
  },
  {
   "cell_type": "code",
   "execution_count": 33,
   "metadata": {},
   "outputs": [
    {
     "data": {
      "text/plain": [
       "<AxesSubplot:>"
      ]
     },
     "execution_count": 33,
     "metadata": {},
     "output_type": "execute_result"
    },
    {
     "data": {
      "image/png": "[encoded data removed]",
      "text/plain": [
       "<Figure size 1080x720 with 2 Axes>"
      ]
     },
     "metadata": {
      "needs_background": "light"
     },
     "output_type": "display_data"
    }
   ],
   "source": [
    "#Correlação entre as variáveis\n",
    "figura = plt.figure(figsize=(15,10))\n",
    "sns.heatmap(dados.corr(), annot=True)"
   ]
  },
  {
   "cell_type": "markdown",
   "metadata": {},
   "source": [
    "- as variáveis que mais explicam a variável 'charges' são 'smoker' e 'children'"
   ]
  },
  {
   "cell_type": "markdown",
   "metadata": {},
   "source": [
    "# Peparar dados para o Modelo"
   ]
  },
  {
   "cell_type": "code",
   "execution_count": 32,
   "metadata": {},
   "outputs": [],
   "source": [
    "# TRATAMENTO DO ATRIBUTO CATEGÓRICOS\n",
    "# transformando a variável country em número\n",
    "from sklearn.preprocessing import LabelEncoder\n",
    "label_enconder_country = LabelEncoder()\n",
    "\n",
    "dados.iloc[:,5] = label_enconder_country.fit_transform(dados.iloc[:,5]) "
   ]
  },
  {
   "cell_type": "code",
   "execution_count": 66,
   "metadata": {},
   "outputs": [],
   "source": [
    "# Divisão da Variáveis\n",
    "X_dados = dados.iloc[:,0:6].values \n",
    "Y_dados = dados.iloc[:,6].values\n",
    "\n",
    "# Treino e teste\n",
    "X_dados_train, X_dados_test, Y_dados_train, Y_dados_test = train_test_split(X_dados, Y_dados, test_size=0.3, random_state=0)\n",
    "\n",
    "# ESCALONAMENTO DOS DADOS \n",
    "scaler_x = StandardScaler()\n",
    "X_dados_train_scaled    = scaler_x.fit_transform(X_dados_train)\n",
    "X_dados_test_scaled     = scaler_x.transform(X_dados_test)\n",
    "X_dados_scaled          = scaler_x.transform(X_dados)\n",
    "\n",
    "scaler_y = StandardScaler()\n",
    "Y_dados_train_scaled    = scaler_y.fit_transform(Y_dados_train.reshape(-1,1))\n",
    "Y_dados_test_scaled     = scaler_y.transform(Y_dados_test.reshape(-1,1))\n",
    "Y_dados_scaled          = scaler_y.transform(Y_dados.reshape(-1,1))\n"
   ]
  },
  {
   "cell_type": "code",
   "execution_count": 67,
   "metadata": {},
   "outputs": [
    {
     "data": {
      "text/plain": [
       "((936, 6), (402, 6), (936,), (402,))"
      ]
     },
     "execution_count": 67,
     "metadata": {},
     "output_type": "execute_result"
    }
   ],
   "source": [
    "X_dados_train.shape, X_dados_test.shape, Y_dados_train.shape, Y_dados_test.shape"
   ]
  },
  {
   "cell_type": "markdown",
   "metadata": {},
   "source": [
    "# Teste de Algoritmos e Avaliação"
   ]
  },
  {
   "cell_type": "code",
   "execution_count": 85,
   "metadata": {},
   "outputs": [
    {
     "name": "stdout",
     "output_type": "stream",
     "text": [
      "Score: 0.869019333523133 - MAE: 2766.6761932474965 - MSE: 20887416.82276461 - RMSE: 4570.275355245525\n"
     ]
    }
   ],
   "source": [
    "# ALGORITMO - REDE NEURAL\n",
    "# para a Rede Neural os dados precisam estar escalonados\n",
    "# hidden_layer_sizes => (6 + 1 ) / 2  / 4 = numero de atributos, 1 = neuronio de saída\n",
    "\n",
    "regressor_neural = MLPRegressor(max_iter=1500, hidden_layer_sizes=(4,4), activation='logistic')\n",
    "regressor_neural.fit(X_dados_train_scaled, Y_dados_train_scaled.ravel())\n",
    "\n",
    "score = regressor_neural.score(X_dados_test_scaled, Y_dados_test_scaled.ravel())\n",
    "previsoes = regressor_neural.predict(X_dados_test_scaled)\n",
    "\n",
    "\n",
    "# INVERSE\n",
    "Y_dados_test_inverse = scaler_y.inverse_transform(Y_dados_test_scaled)\n",
    "previsoes_inverse = scaler_y.inverse_transform(previsoes.reshape(-1,1))\n",
    "#MAE\n",
    "mae = mean_absolute_error(Y_dados_test_inverse, previsoes_inverse)\n",
    "#MSE\n",
    "mse = mean_squared_error(Y_dados_test_inverse, previsoes_inverse)\n",
    "#RMSE\n",
    "rmse = np.sqrt(mean_squared_error(Y_dados_test_inverse, previsoes_inverse))\n",
    "\n",
    "print(f\"Score: {score} - MAE: {mae} - MSE: {mse} - RMSE: {rmse}\")"
   ]
  },
  {
   "cell_type": "code",
   "execution_count": 74,
   "metadata": {},
   "outputs": [
    {
     "name": "stdout",
     "output_type": "stream",
     "text": [
      "Score: 0.877917969449256 - MAE: 2449.2570769616527 - MSE: 19468356.111420713 - RMSE: 4412.296013576232\n"
     ]
    }
   ],
   "source": [
    "# ALGORITMO - SVM\n",
    "# para o SVM os dados precisam estar escalonados\n",
    "\n",
    "regressor_svm= SVR(kernel='rbf')\n",
    "regressor_svm.fit(X_dados_train_scaled,Y_dados_train_scaled.ravel())\n",
    "\n",
    "\n",
    "score2 = regressor_svm.score(X_dados_test_scaled, Y_dados_test_scaled.ravel())\n",
    "previsoes2 = regressor_svm.predict(X_dados_test_scaled)\n",
    "\n",
    "\n",
    "# INVERSE\n",
    "Y_dados_test_inverse = scaler_y.inverse_transform(Y_dados_test_scaled)\n",
    "previsoes2_inverse = scaler_y.inverse_transform(previsoes2.reshape(-1,1))\n",
    "#MAE\n",
    "mae = mean_absolute_error(Y_dados_test_inverse, previsoes2_inverse)\n",
    "#MSE\n",
    "mse = mean_squared_error(Y_dados_test_inverse, previsoes2_inverse)\n",
    "#RMSE\n",
    "rmse = np.sqrt(mean_squared_error(Y_dados_test_inverse, previsoes2_inverse))\n",
    "\n",
    "print(f\"Score: {score2} - MAE: {mae} - MSE: {mse} - RMSE: {rmse}\")"
   ]
  },
  {
   "cell_type": "code",
   "execution_count": 81,
   "metadata": {},
   "outputs": [
    {
     "name": "stdout",
     "output_type": "stream",
     "text": [
      "Score: 0.8619649653419693 - MAE: 2796.8230562004974 - MSE: 22012373.14330094 - RMSE: 4691.734555929283\n"
     ]
    }
   ],
   "source": [
    "# ALGORITMO - RANDOM FOREST \n",
    "# para o Forest os dados não precisam estar escalonados\n",
    "regressor_forest= RandomForestRegressor(n_estimators=100)\n",
    "regressor_forest.fit(X_dados_train,Y_dados_train)\n",
    "\n",
    "score3 = regressor_forest.score(X_dados_test,Y_dados_test)\n",
    "previsoes3 = regressor_forest.predict(X_dados_test)\n",
    "\n",
    "\n",
    "#MAE\n",
    "mae = mean_absolute_error(Y_dados_test, previsoes3)\n",
    "#MSE\n",
    "mse = mean_squared_error(Y_dados_test, previsoes3)\n",
    "#RMSE\n",
    "rmse = np.sqrt(mean_squared_error(Y_dados_test, previsoes3))\n",
    "print(f\"Score: {score3} - MAE: {mae} - MSE: {mse} - RMSE: {rmse}\")"
   ]
  },
  {
   "cell_type": "markdown",
   "metadata": {},
   "source": [
    "- Até o momento a performance dos 3 algoritmos se assemelham bastante, com percentual de Score variando entre 86% e 87% e o Mean Absolute Error em $2.400 e $2.700"
   ]
  },
  {
   "cell_type": "markdown",
   "metadata": {},
   "source": [
    "# Tuning dos Parâmetros"
   ]
  },
  {
   "cell_type": "code",
   "execution_count": null,
   "metadata": {},
   "outputs": [],
   "source": [
    "# REDE NEURAL\n",
    "parametros = { \n",
    "    'activation' :   ['relu', 'logistic','than','identity'],\n",
    "    'solver' : ['adam','sgd','lbfgs'],\n",
    "    'batch_size' : [10,56],\n",
    "    'max_iter' : [500,1000,1500],\n",
    "    'hidden_layer_sizes' : [(2,2),(4,4)]\n",
    "}\n",
    "\n",
    "grid_search = GridSearchCV(estimator=MLPRegressor(), param_grid=parametros)\n",
    "grid_search.fit(X_dados_scaled,Y_dados_scaled.ravel())\n",
    "\n",
    "melhores_parametros = grid_search.best_params_\n",
    "melhor_resultado    = grid_search.best_score_\n",
    "print(melhores_parametros)\n",
    "print(melhor_resultado)"
   ]
  },
  {
   "cell_type": "code",
   "execution_count": 86,
   "metadata": {},
   "outputs": [
    {
     "name": "stdout",
     "output_type": "stream",
     "text": [
      "{'C': 2.0, 'degree': 1, 'kernel': 'rbf', 'tol': 0.001}\n",
      "0.8412395678923776\n"
     ]
    }
   ],
   "source": [
    "# SVM\n",
    "# criar um dicionario com os mesmo nomes e opções utilizados no algoritmo\n",
    "parametros = { \n",
    "    'tol' :   [0.001, 0.0001, 0.00001],\n",
    "    'C' : [1.0,1.5,2.0],\n",
    "    'kernel' : ['rbf', 'linear', 'poly','sigmoid'],\n",
    "    'degree': [1,2,3,4,5] \n",
    "}\n",
    "\n",
    "grid_search = GridSearchCV(estimator=SVR(), param_grid=parametros)\n",
    "grid_search.fit(X_dados_scaled,Y_dados_scaled.ravel())\n",
    "\n",
    "melhores_parametros = grid_search.best_params_\n",
    "melhor_resultado    = grid_search.best_score_\n",
    "print(melhores_parametros)\n",
    "print(melhor_resultado)"
   ]
  },
  {
   "cell_type": "code",
   "execution_count": 87,
   "metadata": {},
   "outputs": [
    {
     "name": "stdout",
     "output_type": "stream",
     "text": [
      "{'criterion': 'squared_error', 'min_samples_leaf': 10, 'min_samples_split': 10, 'n_estimators': 100}\n",
      "0.8603141777557723\n"
     ]
    }
   ],
   "source": [
    "# RANDOM FOREST\n",
    "# criar um dicionario com os mesmo nomes e opções utilizados no algoritmo\n",
    "parametros = { \n",
    "    'criterion' :   ['squared_error', 'absolute_error', 'poisson'],\n",
    "    'n_estimators' : [10,40,100,150],\n",
    "    'min_samples_split' :   [2,5,10],\n",
    "    'min_samples_leaf'  :   [1,5,10]\n",
    "}\n",
    "\n",
    "grid_search = GridSearchCV(estimator=RandomForestRegressor(), param_grid=parametros)\n",
    "grid_search.fit(X_dados,Y_dados)\n",
    "\n",
    "melhores_parametros = grid_search.best_params_\n",
    "melhor_resultado    = grid_search.best_score_\n",
    "print(melhores_parametros)\n",
    "print(melhor_resultado)"
   ]
  },
  {
   "cell_type": "markdown",
   "metadata": {},
   "source": [
    "# Construção do Modelo e Avaliação"
   ]
  },
  {
   "cell_type": "code",
   "execution_count": 88,
   "metadata": {},
   "outputs": [],
   "source": [
    "resultados_randomf          = []\n",
    "resultados_svm              = []\n",
    "resultados_redeneural       = []\n",
    "\n",
    "# faz 30 teste a cada K do cross validation => K=10 => 10*30 = 300 testes para cada algoritmo\n",
    "# salva a média de cada teste de cada algoritmo mas respectivas variáveis\n",
    "\n",
    "for i in range(30):\n",
    "    # n_splits      => k vezes a separar os dados\n",
    "    # shuffle=True  => sempre misturar os dados\n",
    "    kfold = KFold(n_splits=10, shuffle=True, random_state=i) \n",
    "    \n",
    "    #instaciar os algoritmos com os melhores parametros encontrados\n",
    "\n",
    "    randoforest = RandomForestRegressor(criterion='squared_error', min_samples_leaf= 10, min_samples_split=  10, n_estimators=100)\n",
    "    scores2 = cross_val_score(randoforest, X_dados,Y_dados, cv=kfold)\n",
    "    resultados_randomf.append(scores2.mean())\n",
    "\n",
    "    svm = SVR(C=2.0, kernel= 'rbf', tol=0.001, degree=1)\n",
    "    scores5 = cross_val_score(svm, X_dados_scaled,Y_dados_scaled.ravel(), cv=kfold)\n",
    "    resultados_svm.append(scores5.mean())\n",
    "    \n",
    "   \n",
    "    redeneural = MLPRegressor(activation='logistic', batch_size=56,  max_iter=1500, hidden_layer_sizes=(4,4) )\n",
    "    scores6 = cross_val_score(redeneural, X_dados_scaled,Y_dados_scaled.ravel(), cv=kfold)\n",
    "    resultados_redeneural.append(scores6.mean())"
   ]
  },
  {
   "cell_type": "code",
   "execution_count": 89,
   "metadata": {},
   "outputs": [],
   "source": [
    "resultados = pd.DataFrame({\n",
    "    'random forest': resultados_randomf,'svm': resultados_svm, 'redeneural':resultados_redeneural\n",
    "})"
   ]
  },
  {
   "cell_type": "code",
   "execution_count": 93,
   "metadata": {},
   "outputs": [
    {
     "data": {
      "text/plain": [
       "random forest    0.857432\n",
       "svm              0.842525\n",
       "redeneural       0.837794\n",
       "dtype: float64"
      ]
     },
     "execution_count": 93,
     "metadata": {},
     "output_type": "execute_result"
    }
   ],
   "source": [
    "# média do Score obtido através do Cross Validation\n",
    "resultados.mean()"
   ]
  },
  {
   "cell_type": "code",
   "execution_count": 94,
   "metadata": {},
   "outputs": [
    {
     "data": {
      "text/plain": [
       "random forest    0.270176\n",
       "svm              0.266972\n",
       "redeneural       0.366504\n",
       "dtype: float64"
      ]
     },
     "execution_count": 94,
     "metadata": {},
     "output_type": "execute_result"
    }
   ],
   "source": [
    "# Coef. de Variação\n",
    "(resultados.std() / resultados.mean()) * 100"
   ]
  },
  {
   "cell_type": "markdown",
   "metadata": {},
   "source": [
    "- após a validação cruzada, os 3 algoritmos ainda se mantiveram com performance semelhantes. *A rede neural apresentou um coeficiente de variação um pouco mais elevado que os demais, \n",
    "mesmo assim serão utilizados os 3 algoritmos para realizarmos as previsões, utilizando a técnica de combinação de Regressores"
   ]
  },
  {
   "cell_type": "markdown",
   "metadata": {},
   "source": [
    "# Combinação de Regressores e Previsões"
   ]
  },
  {
   "cell_type": "code",
   "execution_count": 109,
   "metadata": {},
   "outputs": [
    {
     "data": {
      "text/plain": [
       "MLPRegressor(activation='logistic', batch_size=56, hidden_layer_sizes=(4, 4),\n",
       "             max_iter=1500)"
      ]
     },
     "execution_count": 109,
     "metadata": {},
     "output_type": "execute_result"
    }
   ],
   "source": [
    "# Treinamento final\n",
    "randoforest = RandomForestRegressor(criterion='squared_error', min_samples_leaf= 10, min_samples_split=  10, n_estimators=100)\n",
    "randoforest.fit(X_dados, Y_dados)\n",
    "\n",
    "svm = SVR(C=2.0, kernel= 'rbf', tol=0.001, degree=1)\n",
    "svm.fit(X_dados_scaled,Y_dados_scaled.ravel())\n",
    "\n",
    "redeneural = MLPRegressor(activation='logistic', batch_size=56,  max_iter=1500, hidden_layer_sizes=(4,4) )\n",
    "redeneural.fit(X_dados_scaled,Y_dados_scaled.ravel())"
   ]
  },
  {
   "cell_type": "markdown",
   "metadata": {},
   "source": [
    "- Quanto eu pagaria de plano de saúde ?"
   ]
  },
  {
   "cell_type": "code",
   "execution_count": null,
   "metadata": {},
   "outputs": [],
   "source": [
    "# novo registro\n",
    "# age => 27 , sex => male, bmi => 24,000, children => 0, smoker => 0, region => southeast\n",
    "regiao = label_enconder_country.transform(['southeast']);\n",
    "novo = [[ 27, 0, 24.000 ,0, 0, regiao ]];\n",
    "novo_scaled = scaler_x.transform(novo);\n",
    "\n",
    "\n",
    "# previsões\n",
    "prev_svm = svm.predict(novo_scaled);\n",
    "prev_svm = scaler_y.inverse_transform(prev_svm.reshape(-1,1));\n",
    "\n",
    "prev_random  = randoforest.predict(novo);\n",
    "\n",
    "prev_redeneural  = redeneural.predict(novo_scaled);\n",
    "prev_redeneural  = scaler_y.inverse_transform(prev_redeneural.reshape(-1,1));\n",
    "\n"
   ]
  },
  {
   "cell_type": "code",
   "execution_count": 132,
   "metadata": {},
   "outputs": [
    {
     "name": "stdout",
     "output_type": "stream",
     "text": [
      "Random Forest: [3455.59241189] - SVM: [[3569.80824073]] - Rede Neural: [[4160.85334743]]\n"
     ]
    }
   ],
   "source": [
    "#print das previsões\n",
    "print(f\"Random Forest: {prev_random} - SVM: {prev_svm} - Rede Neural: {prev_redeneural}\")"
   ]
  },
  {
   "cell_type": "code",
   "execution_count": 134,
   "metadata": {},
   "outputs": [
    {
     "data": {
      "text/plain": [
       "array([[3728.75133335]])"
      ]
     },
     "execution_count": 134,
     "metadata": {},
     "output_type": "execute_result"
    }
   ],
   "source": [
    "media = (prev_random + prev_svm + prev_redeneural) / 3\n",
    "media"
   ]
  },
  {
   "cell_type": "markdown",
   "metadata": {},
   "source": [
    "- Utilizou-se a média dos 3 Regressores e resultou no valor do plano de Saúde de $3.728,75"
   ]
  }
 ],
 "metadata": {
  "interpreter": {
   "hash": "46d564e2666f0db3b04a6dfae35dd675acfcb3d719e261d7f5871d0597ecd019"
  },
  "kernelspec": {
   "display_name": "Python 3.9.7 64-bit",
   "language": "python",
   "name": "python3"
  },
  "language_info": {
   "codemirror_mode": {
    "name": "ipython",
    "version": 3
   },
   "file_extension": ".py",
   "mimetype": "text/x-python",
   "name": "python",
   "nbconvert_exporter": "python",
   "pygments_lexer": "ipython3",
   "version": "3.9.7"
  },
  "orig_nbformat": 4
 },
 "nbformat": 4,
 "nbformat_minor": 2
}
